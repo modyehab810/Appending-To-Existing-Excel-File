{
 "cells": [
  {
   "cell_type": "markdown",
   "id": "939dcad2",
   "metadata": {},
   "source": [
    "### Importing Libraries"
   ]
  },
  {
   "cell_type": "code",
   "execution_count": 3,
   "id": "47e79499",
   "metadata": {},
   "outputs": [],
   "source": [
    "import pandas as pd\n",
    "import numpy as np\n",
    "import openpyxl"
   ]
  },
  {
   "cell_type": "markdown",
   "id": "7996eef6",
   "metadata": {},
   "source": [
    "### Read The Data"
   ]
  },
  {
   "cell_type": "code",
   "execution_count": 4,
   "id": "65c8f294",
   "metadata": {},
   "outputs": [],
   "source": [
    "df = pd.read_excel(\"employees_data.xlsx\")"
   ]
  },
  {
   "cell_type": "code",
   "execution_count": 5,
   "id": "4c036cc5",
   "metadata": {},
   "outputs": [
    {
     "data": {
      "text/plain": [
       "(100, 8)"
      ]
     },
     "execution_count": 5,
     "metadata": {},
     "output_type": "execute_result"
    }
   ],
   "source": [
    "df.shape"
   ]
  },
  {
   "cell_type": "code",
   "execution_count": 6,
   "id": "36bd4baf",
   "metadata": {},
   "outputs": [
    {
     "data": {
      "text/html": [
       "<div>\n",
       "<style scoped>\n",
       "    .dataframe tbody tr th:only-of-type {\n",
       "        vertical-align: middle;\n",
       "    }\n",
       "\n",
       "    .dataframe tbody tr th {\n",
       "        vertical-align: top;\n",
       "    }\n",
       "\n",
       "    .dataframe thead th {\n",
       "        text-align: right;\n",
       "    }\n",
       "</style>\n",
       "<table border=\"1\" class=\"dataframe\">\n",
       "  <thead>\n",
       "    <tr style=\"text-align: right;\">\n",
       "      <th></th>\n",
       "      <th>Department</th>\n",
       "      <th>Status</th>\n",
       "      <th>Hire Date</th>\n",
       "      <th>Years</th>\n",
       "      <th>Benefits</th>\n",
       "      <th>Compensation</th>\n",
       "      <th>Job Rating</th>\n",
       "      <th>New Comp.</th>\n",
       "    </tr>\n",
       "  </thead>\n",
       "  <tbody>\n",
       "    <tr>\n",
       "      <th>0</th>\n",
       "      <td>Quality Control</td>\n",
       "      <td>Full Time</td>\n",
       "      <td>2013-11-02</td>\n",
       "      <td>9</td>\n",
       "      <td>M</td>\n",
       "      <td>119407</td>\n",
       "      <td>4</td>\n",
       "      <td>122786</td>\n",
       "    </tr>\n",
       "    <tr>\n",
       "      <th>1</th>\n",
       "      <td>Creative</td>\n",
       "      <td>Full Time</td>\n",
       "      <td>2006-05-15</td>\n",
       "      <td>17</td>\n",
       "      <td>D</td>\n",
       "      <td>119221</td>\n",
       "      <td>4</td>\n",
       "      <td>122595</td>\n",
       "    </tr>\n",
       "    <tr>\n",
       "      <th>2</th>\n",
       "      <td>Manufacturing</td>\n",
       "      <td>Full Time</td>\n",
       "      <td>2006-03-07</td>\n",
       "      <td>17</td>\n",
       "      <td>M</td>\n",
       "      <td>119062</td>\n",
       "      <td>5</td>\n",
       "      <td>122431</td>\n",
       "    </tr>\n",
       "    <tr>\n",
       "      <th>3</th>\n",
       "      <td>Account Management</td>\n",
       "      <td>Contract</td>\n",
       "      <td>2016-10-09</td>\n",
       "      <td>7</td>\n",
       "      <td>NaN</td>\n",
       "      <td>118969</td>\n",
       "      <td>2</td>\n",
       "      <td>122336</td>\n",
       "    </tr>\n",
       "    <tr>\n",
       "      <th>4</th>\n",
       "      <td>Quality Control</td>\n",
       "      <td>Full Time</td>\n",
       "      <td>2016-03-04</td>\n",
       "      <td>7</td>\n",
       "      <td>R</td>\n",
       "      <td>118782</td>\n",
       "      <td>5</td>\n",
       "      <td>122144</td>\n",
       "    </tr>\n",
       "  </tbody>\n",
       "</table>\n",
       "</div>"
      ],
      "text/plain": [
       "           Department     Status  Hire Date  Years Benefits   Compensation   \\\n",
       "0     Quality Control  Full Time 2013-11-02      9       M           119407   \n",
       "1            Creative  Full Time 2006-05-15     17       D           119221   \n",
       "2       Manufacturing  Full Time 2006-03-07     17       M           119062   \n",
       "3  Account Management   Contract 2016-10-09      7      NaN          118969   \n",
       "4     Quality Control  Full Time 2016-03-04      7       R           118782   \n",
       "\n",
       "   Job Rating   New Comp.   \n",
       "0           4       122786  \n",
       "1           4       122595  \n",
       "2           5       122431  \n",
       "3           2       122336  \n",
       "4           5       122144  "
      ]
     },
     "execution_count": 6,
     "metadata": {},
     "output_type": "execute_result"
    }
   ],
   "source": [
    "df.head()"
   ]
  },
  {
   "cell_type": "markdown",
   "id": "65754249",
   "metadata": {},
   "source": [
    "### Cleaning Column Names"
   ]
  },
  {
   "cell_type": "code",
   "execution_count": 7,
   "id": "29de6b22",
   "metadata": {},
   "outputs": [],
   "source": [
    "df.columns = [c.strip().replace(\" \", \"_\") for c  in df.columns]"
   ]
  },
  {
   "cell_type": "code",
   "execution_count": 8,
   "id": "567f1208",
   "metadata": {},
   "outputs": [
    {
     "data": {
      "text/plain": [
       "Index(['Department', 'Status', 'Hire_Date', 'Years', 'Benefits',\n",
       "       'Compensation', 'Job_Rating', 'New_Comp.'],\n",
       "      dtype='object')"
      ]
     },
     "execution_count": 8,
     "metadata": {},
     "output_type": "execute_result"
    }
   ],
   "source": [
    "df.columns"
   ]
  },
  {
   "cell_type": "markdown",
   "id": "19daa232",
   "metadata": {},
   "source": [
    "### Craete Second DF from Original DF"
   ]
  },
  {
   "cell_type": "code",
   "execution_count": 16,
   "id": "42158a68",
   "metadata": {},
   "outputs": [],
   "source": [
    "contract_filt = df[\"Status\"] == \"Contract\""
   ]
  },
  {
   "cell_type": "code",
   "execution_count": 17,
   "id": "7a1db964",
   "metadata": {},
   "outputs": [
    {
     "data": {
      "text/html": [
       "<div>\n",
       "<style scoped>\n",
       "    .dataframe tbody tr th:only-of-type {\n",
       "        vertical-align: middle;\n",
       "    }\n",
       "\n",
       "    .dataframe tbody tr th {\n",
       "        vertical-align: top;\n",
       "    }\n",
       "\n",
       "    .dataframe thead th {\n",
       "        text-align: right;\n",
       "    }\n",
       "</style>\n",
       "<table border=\"1\" class=\"dataframe\">\n",
       "  <thead>\n",
       "    <tr style=\"text-align: right;\">\n",
       "      <th></th>\n",
       "      <th>Department</th>\n",
       "      <th>Hire_Date</th>\n",
       "      <th>Years</th>\n",
       "      <th>Compensation</th>\n",
       "    </tr>\n",
       "  </thead>\n",
       "  <tbody>\n",
       "    <tr>\n",
       "      <th>3</th>\n",
       "      <td>Account Management</td>\n",
       "      <td>2016-10-09</td>\n",
       "      <td>7</td>\n",
       "      <td>118969</td>\n",
       "    </tr>\n",
       "    <tr>\n",
       "      <th>6</th>\n",
       "      <td>Manufacturing</td>\n",
       "      <td>2012-10-03</td>\n",
       "      <td>11</td>\n",
       "      <td>118171</td>\n",
       "    </tr>\n",
       "    <tr>\n",
       "      <th>11</th>\n",
       "      <td>Manufacturing</td>\n",
       "      <td>2016-05-26</td>\n",
       "      <td>7</td>\n",
       "      <td>116814</td>\n",
       "    </tr>\n",
       "    <tr>\n",
       "      <th>15</th>\n",
       "      <td>Facilities/Engineering</td>\n",
       "      <td>2005-02-24</td>\n",
       "      <td>18</td>\n",
       "      <td>115670</td>\n",
       "    </tr>\n",
       "    <tr>\n",
       "      <th>20</th>\n",
       "      <td>ADC</td>\n",
       "      <td>2016-11-15</td>\n",
       "      <td>6</td>\n",
       "      <td>115045</td>\n",
       "    </tr>\n",
       "    <tr>\n",
       "      <th>21</th>\n",
       "      <td>Manufacturing</td>\n",
       "      <td>2012-08-07</td>\n",
       "      <td>11</td>\n",
       "      <td>114806</td>\n",
       "    </tr>\n",
       "    <tr>\n",
       "      <th>22</th>\n",
       "      <td>Quality Control</td>\n",
       "      <td>2015-11-26</td>\n",
       "      <td>7</td>\n",
       "      <td>114726</td>\n",
       "    </tr>\n",
       "    <tr>\n",
       "      <th>26</th>\n",
       "      <td>Product Development</td>\n",
       "      <td>2017-06-11</td>\n",
       "      <td>6</td>\n",
       "      <td>114274</td>\n",
       "    </tr>\n",
       "    <tr>\n",
       "      <th>27</th>\n",
       "      <td>Manufacturing</td>\n",
       "      <td>2007-11-27</td>\n",
       "      <td>15</td>\n",
       "      <td>114220</td>\n",
       "    </tr>\n",
       "    <tr>\n",
       "      <th>29</th>\n",
       "      <td>Quality Assurance</td>\n",
       "      <td>2012-07-04</td>\n",
       "      <td>11</td>\n",
       "      <td>113449</td>\n",
       "    </tr>\n",
       "  </tbody>\n",
       "</table>\n",
       "</div>"
      ],
      "text/plain": [
       "                Department  Hire_Date  Years  Compensation\n",
       "3       Account Management 2016-10-09      7        118969\n",
       "6            Manufacturing 2012-10-03     11        118171\n",
       "11           Manufacturing 2016-05-26      7        116814\n",
       "15  Facilities/Engineering 2005-02-24     18        115670\n",
       "20                     ADC 2016-11-15      6        115045\n",
       "21           Manufacturing 2012-08-07     11        114806\n",
       "22         Quality Control 2015-11-26      7        114726\n",
       "26     Product Development 2017-06-11      6        114274\n",
       "27           Manufacturing 2007-11-27     15        114220\n",
       "29       Quality Assurance 2012-07-04     11        113449"
      ]
     },
     "execution_count": 17,
     "metadata": {},
     "output_type": "execute_result"
    }
   ],
   "source": [
    "contract_filt = df.loc[contract_filt, [\"Department\", \"Hire_Date\", \"Years\", \"Compensation\"]]\n",
    "contract_filt.head(10)"
   ]
  },
  {
   "cell_type": "markdown",
   "id": "f12569f0",
   "metadata": {},
   "source": [
    "### Craete Third DF from Original DF"
   ]
  },
  {
   "cell_type": "code",
   "execution_count": 18,
   "id": "8df0e9e4",
   "metadata": {},
   "outputs": [],
   "source": [
    "full_time_filt = df[\"Status\"] == \"Full Time\""
   ]
  },
  {
   "cell_type": "code",
   "execution_count": 19,
   "id": "36095150",
   "metadata": {},
   "outputs": [
    {
     "data": {
      "text/html": [
       "<div>\n",
       "<style scoped>\n",
       "    .dataframe tbody tr th:only-of-type {\n",
       "        vertical-align: middle;\n",
       "    }\n",
       "\n",
       "    .dataframe tbody tr th {\n",
       "        vertical-align: top;\n",
       "    }\n",
       "\n",
       "    .dataframe thead th {\n",
       "        text-align: right;\n",
       "    }\n",
       "</style>\n",
       "<table border=\"1\" class=\"dataframe\">\n",
       "  <thead>\n",
       "    <tr style=\"text-align: right;\">\n",
       "      <th></th>\n",
       "      <th>Department</th>\n",
       "      <th>Hire_Date</th>\n",
       "      <th>Years</th>\n",
       "      <th>Compensation</th>\n",
       "      <th>Job_Rating</th>\n",
       "    </tr>\n",
       "  </thead>\n",
       "  <tbody>\n",
       "    <tr>\n",
       "      <th>0</th>\n",
       "      <td>Quality Control</td>\n",
       "      <td>2013-11-02</td>\n",
       "      <td>9</td>\n",
       "      <td>119407</td>\n",
       "      <td>4</td>\n",
       "    </tr>\n",
       "    <tr>\n",
       "      <th>1</th>\n",
       "      <td>Creative</td>\n",
       "      <td>2006-05-15</td>\n",
       "      <td>17</td>\n",
       "      <td>119221</td>\n",
       "      <td>4</td>\n",
       "    </tr>\n",
       "    <tr>\n",
       "      <th>2</th>\n",
       "      <td>Manufacturing</td>\n",
       "      <td>2006-03-07</td>\n",
       "      <td>17</td>\n",
       "      <td>119062</td>\n",
       "      <td>5</td>\n",
       "    </tr>\n",
       "    <tr>\n",
       "      <th>4</th>\n",
       "      <td>Quality Control</td>\n",
       "      <td>2016-03-04</td>\n",
       "      <td>7</td>\n",
       "      <td>118782</td>\n",
       "      <td>5</td>\n",
       "    </tr>\n",
       "    <tr>\n",
       "      <th>5</th>\n",
       "      <td>Quality Assurance</td>\n",
       "      <td>2017-01-20</td>\n",
       "      <td>6</td>\n",
       "      <td>118556</td>\n",
       "      <td>1</td>\n",
       "    </tr>\n",
       "    <tr>\n",
       "      <th>7</th>\n",
       "      <td>Quality Control</td>\n",
       "      <td>2016-05-24</td>\n",
       "      <td>7</td>\n",
       "      <td>118157</td>\n",
       "      <td>5</td>\n",
       "    </tr>\n",
       "    <tr>\n",
       "      <th>8</th>\n",
       "      <td>Professional Training Group</td>\n",
       "      <td>2004-06-28</td>\n",
       "      <td>19</td>\n",
       "      <td>117359</td>\n",
       "      <td>5</td>\n",
       "    </tr>\n",
       "    <tr>\n",
       "      <th>9</th>\n",
       "      <td>Account Management</td>\n",
       "      <td>2018-06-23</td>\n",
       "      <td>5</td>\n",
       "      <td>117013</td>\n",
       "      <td>1</td>\n",
       "    </tr>\n",
       "    <tr>\n",
       "      <th>10</th>\n",
       "      <td>IT</td>\n",
       "      <td>2016-10-07</td>\n",
       "      <td>7</td>\n",
       "      <td>116974</td>\n",
       "      <td>4</td>\n",
       "    </tr>\n",
       "    <tr>\n",
       "      <th>12</th>\n",
       "      <td>Manufacturing</td>\n",
       "      <td>2009-02-06</td>\n",
       "      <td>14</td>\n",
       "      <td>116082</td>\n",
       "      <td>4</td>\n",
       "    </tr>\n",
       "  </tbody>\n",
       "</table>\n",
       "</div>"
      ],
      "text/plain": [
       "                     Department  Hire_Date  Years  Compensation  Job_Rating\n",
       "0               Quality Control 2013-11-02      9        119407           4\n",
       "1                      Creative 2006-05-15     17        119221           4\n",
       "2                 Manufacturing 2006-03-07     17        119062           5\n",
       "4               Quality Control 2016-03-04      7        118782           5\n",
       "5             Quality Assurance 2017-01-20      6        118556           1\n",
       "7               Quality Control 2016-05-24      7        118157           5\n",
       "8   Professional Training Group 2004-06-28     19        117359           5\n",
       "9            Account Management 2018-06-23      5        117013           1\n",
       "10                           IT 2016-10-07      7        116974           4\n",
       "12                Manufacturing 2009-02-06     14        116082           4"
      ]
     },
     "execution_count": 19,
     "metadata": {},
     "output_type": "execute_result"
    }
   ],
   "source": [
    "full_time_filt = df.loc[full_time_filt, [\"Department\", \"Hire_Date\", \"Years\", \"Compensation\", \"Job_Rating\"]]\n",
    "full_time_filt.head(10)"
   ]
  },
  {
   "cell_type": "markdown",
   "id": "092f7dbc",
   "metadata": {},
   "source": [
    "## Main Step: Appending"
   ]
  },
  {
   "cell_type": "markdown",
   "id": "1b046ace",
   "metadata": {},
   "source": [
    "### Appending The New DFs To The Existing Excel File, But New Sheets"
   ]
  },
  {
   "cell_type": "code",
   "execution_count": 20,
   "id": "f7f583a5",
   "metadata": {},
   "outputs": [],
   "source": [
    "with pd.ExcelWriter(\"employees_data.xlsx\", mode=\"a\", if_sheet_exists=\"overlay\") as writer:\n",
    "    contract_filt.to_excel(writer, sheet_name=\"contract_employees\", index=False)    \n",
    "    full_time_filt.to_excel(writer, sheet_name=\"full_time_employees\", index=False)"
   ]
  }
 ],
 "metadata": {
  "kernelspec": {
   "display_name": "Python 3 (ipykernel)",
   "language": "python",
   "name": "python3"
  },
  "language_info": {
   "codemirror_mode": {
    "name": "ipython",
    "version": 3
   },
   "file_extension": ".py",
   "mimetype": "text/x-python",
   "name": "python",
   "nbconvert_exporter": "python",
   "pygments_lexer": "ipython3",
   "version": "3.10.9"
  }
 },
 "nbformat": 4,
 "nbformat_minor": 5
}
